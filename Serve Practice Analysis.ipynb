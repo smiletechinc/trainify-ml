{
 "cells": [
  {
   "cell_type": "markdown",
   "id": "9021829d",
   "metadata": {},
   "source": [
    "# Imports"
   ]
  },
  {
   "cell_type": "code",
   "execution_count": 5,
   "id": "8b716747",
   "metadata": {},
   "outputs": [
    {
     "name": "stdout",
     "output_type": "stream",
     "text": [
      "Requirement already satisfied: opencv-python in c:\\users\\usama paracha\\anaconda3\\lib\\site-packages (4.5.1.48)\n",
      "Requirement already satisfied: numpy>=1.19.3 in c:\\users\\usama paracha\\anaconda3\\lib\\site-packages (from opencv-python) (1.19.5)\n",
      "Requirement already satisfied: mediapipe in c:\\users\\usama paracha\\anaconda3\\lib\\site-packages (0.8.9)\n",
      "Requirement already satisfied: matplotlib in c:\\users\\usama paracha\\anaconda3\\lib\\site-packages (from mediapipe) (3.4.3)\n",
      "Requirement already satisfied: numpy in c:\\users\\usama paracha\\anaconda3\\lib\\site-packages (from mediapipe) (1.19.5)\n",
      "Requirement already satisfied: opencv-contrib-python in c:\\users\\usama paracha\\anaconda3\\lib\\site-packages (from mediapipe) (4.5.4.60)\n",
      "Requirement already satisfied: protobuf>=3.11.4 in c:\\users\\usama paracha\\anaconda3\\lib\\site-packages (from mediapipe) (3.19.1)\n",
      "Requirement already satisfied: absl-py in c:\\users\\usama paracha\\anaconda3\\lib\\site-packages (from mediapipe) (1.0.0)\n",
      "Requirement already satisfied: six in c:\\users\\usama paracha\\anaconda3\\lib\\site-packages (from mediapipe) (1.16.0)\n",
      "Requirement already satisfied: attrs>=19.1.0 in c:\\users\\usama paracha\\anaconda3\\lib\\site-packages (from mediapipe) (21.2.0)\n",
      "Requirement already satisfied: wheel in c:\\users\\usama paracha\\anaconda3\\lib\\site-packages (from mediapipe) (0.37.0)\n",
      "Requirement already satisfied: pillow>=6.2.0 in c:\\users\\usama paracha\\anaconda3\\lib\\site-packages (from matplotlib->mediapipe) (8.4.0)\n",
      "Requirement already satisfied: kiwisolver>=1.0.1 in c:\\users\\usama paracha\\anaconda3\\lib\\site-packages (from matplotlib->mediapipe) (1.3.1)\n",
      "Requirement already satisfied: cycler>=0.10 in c:\\users\\usama paracha\\anaconda3\\lib\\site-packages (from matplotlib->mediapipe) (0.10.0)\n",
      "Requirement already satisfied: pyparsing>=2.2.1 in c:\\users\\usama paracha\\anaconda3\\lib\\site-packages (from matplotlib->mediapipe) (3.0.4)\n",
      "Requirement already satisfied: python-dateutil>=2.7 in c:\\users\\usama paracha\\anaconda3\\lib\\site-packages (from matplotlib->mediapipe) (2.8.2)\n",
      "Requirement already satisfied: numpy in c:\\users\\usama paracha\\anaconda3\\lib\\site-packages (1.19.5)\n"
     ]
    }
   ],
   "source": [
    "!pip install opencv-python\n",
    "!pip install mediapipe\n",
    "!pip install numpy"
   ]
  },
  {
   "cell_type": "code",
   "execution_count": 6,
   "id": "ccc9cee6",
   "metadata": {},
   "outputs": [],
   "source": [
    "import cv2\n",
    "import mediapipe as mp\n",
    "import argparse\n",
    "import numpy as np\n",
    "import time\n",
    "mp_drawing = mp.solutions.drawing_utils\n",
    "mp_pose = mp.solutions.pose"
   ]
  },
  {
   "cell_type": "code",
   "execution_count": 7,
   "id": "2fae1704",
   "metadata": {},
   "outputs": [],
   "source": [
    "def serve_detection(results, total_serves, skip_frame_count):\n",
    "    \n",
    "    try:\n",
    "        landmarks = results.pose_landmarks.landmark\n",
    "    #     print(landmarks)\n",
    "#         shoulder = [landmarks[mp_pose.PoseLandmark.LEFT_SHOULDER.value].x,landmarks[mp_pose.PoseLandmark.LEFT_SHOULDER.value].y]\n",
    "#         elbow = [landmarks[mp_pose.PoseLandmark.LEFT_ELBOW.value].x,landmarks[mp_pose.PoseLandmark.LEFT_ELBOW.value].y]\n",
    "#         wrist = [landmarks[mp_pose.PoseLandmark.LEFT_WRIST.value].x,landmarks[mp_pose.PoseLandmark.LEFT_WRIST.value].y]\n",
    "\n",
    "        shoulder = [landmarks[mp_pose.PoseLandmark.RIGHT_SHOULDER.value].x,landmarks[mp_pose.PoseLandmark.RIGHT_SHOULDER.value].y]\n",
    "        elbow = [landmarks[mp_pose.PoseLandmark.RIGHT_ELBOW.value].x,landmarks[mp_pose.PoseLandmark.RIGHT_ELBOW.value].y]\n",
    "        wrist = [landmarks[mp_pose.PoseLandmark.RIGHT_WRIST.value].x,landmarks[mp_pose.PoseLandmark.RIGHT_WRIST.value].y]\n",
    "\n",
    "#         print(shoulder[1], elbow[1], wrist[1])\n",
    "    \n",
    "        if(shoulder[1] > elbow[1] and skip_frame_count == 0):\n",
    "            total_serves += 1\n",
    "            skip_frame_count += 1\n",
    "#             print(\"\\nServe Detected\")\n",
    "        elif(skip_frame_count > 0 and skip_frame_count < 60):\n",
    "#             print(\"I am here\")\n",
    "            skip_frame_count += 1\n",
    "        else:\n",
    "            skip_frame_count = 0\n",
    "    except:\n",
    "        pass\n",
    "\n",
    "    return total_serves, skip_frame_count\n"
   ]
  },
  {
   "cell_type": "markdown",
   "id": "094bec12",
   "metadata": {},
   "source": [
    "# Serve Detection"
   ]
  },
  {
   "cell_type": "code",
   "execution_count": 8,
   "id": "a41b4a2b",
   "metadata": {},
   "outputs": [
    {
     "name": "stdout",
     "output_type": "stream",
     "text": [
      "Please Enter the name of the video along with format (e.g player.mp4) placed in the same folder: test4.mp4\n",
      "Total Serves: 1\n",
      "Shots Per Hour: 89\n"
     ]
    }
   ],
   "source": [
    "path = input(\"Please Enter the name of the video along with format (e.g player.mp4) placed in the same folder: \")\n",
    "\n",
    "cap = cv2.VideoCapture(path)\n",
    "\n",
    "total_serves = 0\n",
    "skip_frame_count = 0\n",
    "\n",
    "skip_frame_flag = False\n",
    "\n",
    "# image_folder = 'data-set-race-01'\n",
    "fps = int(cap.get(cv2.CAP_PROP_FPS))\n",
    "frame_count = int(cap.get(cv2.CAP_PROP_FRAME_COUNT))\n",
    "output_width = int(cap.get(cv2.CAP_PROP_FRAME_WIDTH))\n",
    "output_height = int(cap.get(cv2.CAP_PROP_FRAME_HEIGHT))\n",
    "\n",
    "out = cv2.VideoWriter(path.split('.')[0] + \"_serves.mp4\", cv2.VideoWriter_fourcc(*'MP4V'), fps, (output_width, output_height))\n",
    "\n",
    "## Setup mediapipe instance\n",
    "with mp_pose.Pose(min_detection_confidence=0.5, min_tracking_confidence=0.5) as pose:\n",
    "    while True:\n",
    "        fstart = time.time()\n",
    "        ret, frame = cap.read()\n",
    "        \n",
    "\n",
    "        if not ret:\n",
    "            break\n",
    "    \n",
    "        # Recolor image to RGB\n",
    "        image = cv2.cvtColor(frame, cv2.COLOR_BGR2RGB)\n",
    "        image.flags.writeable = False\n",
    "      \n",
    "        if(skip_frame_flag == False):\n",
    "            # Make detection\n",
    "            results = pose.process(image)\n",
    "\n",
    "            # Serve Detection\n",
    "            total_serves, skip_frame_count = serve_detection(results, total_serves, skip_frame_count)\n",
    "\n",
    "            \n",
    "            # Recolor back to BGR\n",
    "            image.flags.writeable = True\n",
    "            image = cv2.cvtColor(image, cv2.COLOR_RGB2BGR)\n",
    "\n",
    "    #         Render detections\n",
    "#             mp_drawing.draw_landmarks(image, results.pose_landmarks, mp_pose.POSE_CONNECTIONS,\n",
    "#                                     mp_drawing.DrawingSpec(color=(245,117,66), thickness=2, circle_radius=2), \n",
    "#                                     mp_drawing.DrawingSpec(color=(245,66,230), thickness=2, circle_radius=2) \n",
    "#                                      )               \n",
    "    \n",
    "            skip_frame_flag = True\n",
    "        \n",
    "        else:\n",
    "            skip_frame_flag = False\n",
    "        \n",
    "        # Recolor back to BGR\n",
    "            image.flags.writeable = True\n",
    "            \n",
    "            image = cv2.cvtColor(image, cv2.COLOR_RGB2BGR)\n",
    "\n",
    "         # Stage data\n",
    "        cv2.rectangle(image, (0,0), (225,73), (245,117,16), -1)\n",
    "        cv2.putText(image, str(total_serves), (10,60), \n",
    "                    cv2.FONT_HERSHEY_SIMPLEX, 1, (255,255,255), 2, cv2.LINE_AA)\n",
    "        \n",
    "        cv2.putText(image, 'FPS', (85,12), \n",
    "                    cv2.FONT_HERSHEY_SIMPLEX, 0.5, (0,0,0), 1, cv2.LINE_AA)\n",
    "        cv2.putText(image, str(1//(time.time()-fstart)), \n",
    "                    (60,60), \n",
    "                    cv2.FONT_HERSHEY_SIMPLEX, 0.5, (255,255,255), 2, cv2.LINE_AA)\n",
    "\n",
    "        cv2.imshow('Mediapipe Feed', image)\n",
    "        out.write(image)\n",
    "        \n",
    "        if cv2.waitKey(10) & 0xFF == ord('q'):\n",
    "            break\n",
    "\n",
    "    cap.release()\n",
    "    out.release()\n",
    "    cv2.destroyAllWindows()\n",
    "\n",
    "duration = frame_count/fps\n",
    "\n",
    "shots_per_hour = (total_serves / duration) * 3600\n",
    "\n",
    "print(f\"Total Serves: {total_serves}\")\n",
    "print(f\"Shots Per Hour: {round(shots_per_hour)}\")"
   ]
  }
 ],
 "metadata": {
  "kernelspec": {
   "display_name": "Python 3 (ipykernel)",
   "language": "python",
   "name": "python3"
  },
  "language_info": {
   "codemirror_mode": {
    "name": "ipython",
    "version": 3
   },
   "file_extension": ".py",
   "mimetype": "text/x-python",
   "name": "python",
   "nbconvert_exporter": "python",
   "pygments_lexer": "ipython3",
   "version": "3.9.7"
  }
 },
 "nbformat": 4,
 "nbformat_minor": 5
}
